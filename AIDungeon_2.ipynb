{
  "nbformat": 4,
  "nbformat_minor": 0,
  "metadata": {
    "colab": {
      "name": "AIDungeon 2.ipynb",
      "provenance": [],
      "toc_visible": true
    },
    "kernelspec": {
      "name": "python3",
      "display_name": "Python 3"
    },
    "accelerator": "GPU"
  },
  "cells": [
    {
      "cell_type": "markdown",
      "metadata": {
        "id": "7dRi_BDWErNf",
        "colab_type": "text"
      },
      "source": [
        "![BYU PCCL](https://pcc4318.files.wordpress.com/2018/02/asset-1.png?w=277)\n",
        "\n",
        "Sponsored by the [BYU PCCL Lab](https://).\n",
        "\n",
        "## AI Dungeon 2 currently requires a Google Drive workaround due to high download costs:\n",
        "1. Click this [shared folder link](https://drive.google.com/drive/folders/1XiDD2BD8vLZaJxZpCrNYjscpvnD3EYrP?usp=sharing) before running to get access. In Google Drive, right click on the shared folder `model_v5` and \"Add to My Drive\".\n",
        "2. Run the first cell below. Click the link in the output and follow the instructions to grant Colab access to Google Drive.\n",
        "3. Run the second and third cells.\n",
        "4. Have fun!!\n",
        "\n",
        "### <a href=\"https://twitter.com/nickwalton00?ref_src=twsrc%5Etfw\" class=\"twitter-follow-button\" data-show-count=\"false\">Follow @nickwalton00</a> on twitter for updates.\n",
        "\n",
        "## About\n",
        "* While you wait you can [read adventures others have had](https://aidungeon.io/)\n",
        "* [Read more](https://pcc.cs.byu.edu/2019/11/21/ai-dungeon-2-creating-infinitely-generated-text-adventures-with-deep-learning-language-models/) about how AI Dungeon 2 is made.\n",
        "\n",
        "* Please [support AI Dungeon 2](https://www.patreon.com/join/AIDungeon/) to help get it back up."
      ]
    },
    {
      "cell_type": "code",
      "metadata": {
        "id": "FAO6g3m6T88w",
        "colab_type": "code",
        "colab": {}
      },
      "source": [
        "from google.colab import drive\n",
        "drive.mount('/content/drive')"
      ],
      "execution_count": 0,
      "outputs": []
    },
    {
      "cell_type": "code",
      "metadata": {
        "id": "FKqlSCrpS9dH",
        "colab_type": "code",
        "colab": {}
      },
      "source": [
        "!git clone --depth 1 --branch patch-2 https://github.com/SkywardRay/AIDungeon/ /content/AIDungeon\n",
        "%cd /content/AIDungeon\n",
        "!ln -s \"/content/drive/My Drive/model_v5\" \"/content/AIDungeon/generator/gpt2/models\"\n",
        "!pip install -r requirements.txt > /dev/null\n",
        "from IPython.display import clear_output \n",
        "clear_output()\n",
        "print(\"Download Complete!\")"
      ],
      "execution_count": 0,
      "outputs": []
    },
    {
      "cell_type": "code",
      "metadata": {
        "id": "YjArwbWh6XwN",
        "colab_type": "code",
        "colab": {}
      },
      "source": [
        "from IPython.display import Javascript\n",
        "display(Javascript('''google.colab.output.setIframeHeight(0, true, {maxHeight: 5000})'''))\n",
        "!python play.py"
      ],
      "execution_count": 0,
      "outputs": []
    },
    {
      "cell_type": "markdown",
      "metadata": {
        "id": "7dRi_BD33rNf",
        "colab_type": "text"
      },
      "source": [
        "If you get an OOM (out of memory error, random crashes) you might want to increase the available RAM. To do this, run the code below. Wait until it crashes and a little message pops up asking if you'd like to increase the available memory. Say yes and run the game."
      ]
    },
    {
      "cell_type": "code",
      "metadata": {
        "id": "YjArwbWh33wN",
        "colab_type": "code",
        "colab": {}
      },
      "source": [
        "d = []\n",
        "while True:\n",
        "    d.append(1)"
      ],
      "execution_count": 0,
      "outputs": []
    }
  ]
}
